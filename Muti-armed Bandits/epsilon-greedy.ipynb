{
 "cells": [
  {
   "cell_type": "code",
   "execution_count": 1,
   "id": "8cdc129a",
   "metadata": {},
   "outputs": [],
   "source": [
    "import numpy as np\n",
    "import matplotlib.pyplot as plt\n",
    "\n",
    "# Initialize bandit with k arms\n",
    "class Bandit:\n",
    "    def __init__(self, k_arms = 10):\n",
    "        self.k_arms = k_arms\n",
    "        self.q_star = np.random.normal(0, 1, self.k_arms)\n",
    "        self.optimal_action = np.argmax(self.q_star)\n",
    "    \n",
    "    def get_reward(self, action):\n",
    "        reward = np.random.normal(self.q_star[action], 1)\n",
    "        return reward\n"
   ]
  },
  {
   "cell_type": "markdown",
   "id": "d622b523",
   "metadata": {},
   "source": [
    "# $greedy$ action selection method\n",
    "$$A_t\\doteq argmax_aQ_t(a)$$\n",
    "\n",
    "$argmax_a$ denotes the action $a$ for which the expression that follows is maximized."
   ]
  },
  {
   "cell_type": "code",
   "execution_count": 2,
   "id": "e1a91c81",
   "metadata": {},
   "outputs": [],
   "source": [
    "class GreedyAgent:\n",
    "    def __init__(self, k_arms = 10):\n",
    "        self.k_arms = k_arms\n",
    "        self.Q = np.zeros(self.k_arms)\n",
    "        self.N = np.zeros(self.k_arms)\n",
    "    \n",
    "    def choose_action(self):\n",
    "        action = np.argmax(self.Q)\n",
    "        return action\n",
    "    \n",
    "    def update_values(self, action, reward):\n",
    "        self.N[action] += 1\n",
    "        self.Q[action] += (reward - self.Q[action]) / self.N[action]"
   ]
  },
  {
   "cell_type": "markdown",
   "id": "c1613ed6",
   "metadata": {},
   "source": [
    "# $\\epsilon-greedy$ methods\n",
    "behave greedy most of the time, but with small probability $\\epsilon$ select randomly from among all the actions with equal probability"
   ]
  },
  {
   "cell_type": "markdown",
   "id": "8f7a795e",
   "metadata": {},
   "source": []
  }
 ],
 "metadata": {
  "kernelspec": {
   "display_name": "base",
   "language": "python",
   "name": "python3"
  },
  "language_info": {
   "codemirror_mode": {
    "name": "ipython",
    "version": 3
   },
   "file_extension": ".py",
   "mimetype": "text/x-python",
   "name": "python",
   "nbconvert_exporter": "python",
   "pygments_lexer": "ipython3",
   "version": "3.12.7"
  }
 },
 "nbformat": 4,
 "nbformat_minor": 5
}
